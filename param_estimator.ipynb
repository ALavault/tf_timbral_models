{
 "cells": [
  {
   "cell_type": "code",
   "execution_count": 1,
   "metadata": {},
   "outputs": [],
   "source": [
    "import numpy as np\n",
    "from scipy import signal\n",
    "import tensorflow as tf\n",
    "import glob\n",
    "import sys\n",
    "import os\n",
    "from timbral_models import filter_audio_highpass, tf_filter_audio_highpass, timbral_util\n",
    "from timbral_models import timbral_brightness, tf_timbral_brightness_2\n",
    "from scipy import stats\n",
    "import warnings\n",
    "from sklearn.linear_model import LinearRegression\n",
    "warnings.filterwarnings(\"ignore\")"
   ]
  },
  {
   "cell_type": "markdown",
   "metadata": {},
   "source": [
    "# Brightness"
   ]
  },
  {
   "cell_type": "code",
   "execution_count": 2,
   "metadata": {},
   "outputs": [
    {
     "name": "stdout",
     "output_type": "stream",
     "text": [
      "error :: 25.0\\%\n",
      "\u001b[93mTracing with (1, 16384) 20 3 4096 1024 \u001b[0m\n",
      "\u001b[93m y_freq (1, 19, 2049) \u001b[0m\n",
      "\u001b[93m stft (1, 19, 2049) \u001b[0m\n",
      "\u001b[93m inverse_stft out shape (1, 16384) \u001b[0m\n",
      "\u001b[93mTracing with (1, 16384) 20 3 4096 1024 \u001b[0m\n",
      "\u001b[93m y_freq (1, 19, 2049) \u001b[0m\n",
      "\u001b[93m stft (1, 19, 2049) \u001b[0m\n",
      "\u001b[93m inverse_stft out shape (1, 16384) \u001b[0m\n",
      "\u001b[93mTracing with (1, 16384) 2000 3 4096 1024 \u001b[0m\n",
      "\u001b[93m y_freq (1, 19, 2049) \u001b[0m\n",
      "\u001b[93m stft (1, 19, 2049) \u001b[0m\n",
      "\u001b[93m inverse_stft out shape (1, 16384) \u001b[0m\n",
      "\u001b[93mTracing with (1, 16384) 2000 3 4096 1024 \u001b[0m\n",
      "\u001b[93m y_freq (1, 19, 2049) \u001b[0m\n",
      "\u001b[93m stft (1, 19, 2049) \u001b[0m\n",
      "\u001b[93m inverse_stft out shape (1, 16384) \u001b[0m\n",
      "\u001b[93mTracing with (1, 16384) 100 3 4096 1024 \u001b[0m\n",
      "\u001b[93m y_freq (1, 19, 2049) \u001b[0m\n",
      "\u001b[93m stft (1, 19, 2049) \u001b[0m\n",
      "\u001b[93m inverse_stft out shape (1, 16384) \u001b[0m\n",
      "\u001b[93mTracing with (1, 16384) 100 3 4096 1024 \u001b[0m\n",
      "\u001b[93m y_freq (1, 19, 2049) \u001b[0m\n",
      "\u001b[93m stft (1, 19, 2049) \u001b[0m\n",
      "\u001b[93m inverse_stft out shape (1, 16384) \u001b[0m\n",
      "File 333/333\r"
     ]
    }
   ],
   "source": [
    "from timbral_models import timbral_brightness, tf_timbral_brightness_2\n",
    "\n",
    "\n",
    "data_dir = \"/home/ubuntu/Documents/code/data/\"\n",
    "audio_samples, fs = timbral_util.file_read(\n",
    "    fname, 0, phase_correction=False)\n",
    "audio_samples2, fs = timbral_util.file_read(\n",
    "    fname2, 0, phase_correction=False)\n",
    "\n",
    "tt = 128*128\n",
    "\n",
    "fps = glob.glob(os.path.join(\n",
    "    data_dir, \"**/*.wav\"), recursive=True)\n",
    "error = []\n",
    "\n",
    "nn = len(fps)\n",
    "\n",
    "grad = True\n",
    "params = []\n",
    "yy = []\n",
    "for i, fname in enumerate(fps):\n",
    "    audio_samples, fs = timbral_util.file_read(\n",
    "        fname, 0, phase_correction=False)\n",
    "    audio_samples_t = tf.convert_to_tensor(\n",
    "        [audio_samples[:tt]], dtype=tf.float32)\n",
    "    audio_samples_t = tf.expand_dims(audio_samples_t, -1)\n",
    "    acm_score = np.array(timbral_brightness(fname, dev_output=False))\n",
    "    yy.append(acm_score)\n",
    "    tf_score = tf_timbral_brightness_2(\n",
    "                audio_samples_t, fs=fs, dev_output=True)\n",
    "    params.append(np.array(tf_score))\n",
    "    print(\"File {}/{}\".format(i+1, nn), end='\\r')\n",
    "    sys.stdout.flush()\n",
    "    #error.append(100 * (acm_score - tf_score.numpy()) / acm_score)\n",
    "print(\"All done !\")\n",
    "params = np.array(params)[:,:,0]\n",
    "yy = np.array(yy)"
   ]
  },
  {
   "cell_type": "code",
   "execution_count": 6,
   "metadata": {
    "scrolled": true
   },
   "outputs": [
    {
     "name": "stdout",
     "output_type": "stream",
     "text": [
      "coeff 0.9978800316081435 [ 4.5712724 17.355247 ] 17.197018\n",
      "og [4.613128018020465, 17.378889309312974, 17.434733750553022]\n"
     ]
    }
   ],
   "source": [
    "reg = LinearRegression().fit(params, yy)\n",
    "print(\"R\",reg.score(params, yy))\n",
    "print(\"estimated\", reg.coef_,reg.intercept_)\n",
    "print(\"og\",   [4.613128018020465, 17.378889309312974, 17.434733750553022])"
   ]
  },
  {
   "source": [
    "# Booming"
   ],
   "cell_type": "markdown",
   "metadata": {}
  },
  {
   "cell_type": "code",
   "execution_count": null,
   "metadata": {},
   "outputs": [],
   "source": []
  },
  {
   "cell_type": "code",
   "execution_count": null,
   "metadata": {},
   "outputs": [],
   "source": []
  },
  {
   "cell_type": "code",
   "execution_count": null,
   "metadata": {},
   "outputs": [],
   "source": []
  }
 ],
 "metadata": {
  "kernelspec": {
   "display_name": "Python 3",
   "language": "python",
   "name": "python3"
  },
  "language_info": {
   "codemirror_mode": {
    "name": "ipython",
    "version": 3
   },
   "file_extension": ".py",
   "mimetype": "text/x-python",
   "name": "python",
   "nbconvert_exporter": "python",
   "pygments_lexer": "ipython3",
   "version": "3.8.5"
  }
 },
 "nbformat": 4,
 "nbformat_minor": 4
}